{
 "cells": [
  {
   "cell_type": "code",
   "execution_count": 1,
   "metadata": {},
   "outputs": [
    {
     "name": "stdout",
     "output_type": "stream",
     "text": [
      "True\n",
      "1.1.21\n"
     ]
    }
   ],
   "source": [
    "import os\n",
    "from ultralytics import YOLO\n",
    "import roboflow \n",
    "from roboflow import Roboflow\n",
    "import matplotlib.pyplot as plt\n",
    "import numpy as np\n",
    "#import tensorflow as tf\n",
    "#from tensorflow.keras import layers\n",
    "import cv2\n",
    "from PIL import Image\n",
    "import torch\n",
    "import pandas as pd\n",
    "\n",
    "print(torch.cuda.is_available())\n",
    "os.environ[\"CUDA_VISIBLE_DEVICES\"] = \"0\"\n",
    "\n",
    "print(roboflow.__version__)"
   ]
  },
  {
   "cell_type": "code",
   "execution_count": null,
   "metadata": {},
   "outputs": [],
   "source": [
    "\n",
    "from roboflow import Roboflow\n",
    "rf = Roboflow(api_key=\"TDzWYbzsPAcvmYddwTT3\")\n",
    "project = rf.workspace(\"hydroponics-cuihh\").project(\"pest-types\")\n",
    "version = project.version(6)\n",
    "dataset = version.download(\"yolov8\")\n"
   ]
  },
  {
   "cell_type": "code",
   "execution_count": null,
   "metadata": {},
   "outputs": [],
   "source": [
    "from roboflow import Roboflow\n",
    "rf = Roboflow(api_key=\"TDzWYbzsPAcvmYddwTT3\")\n",
    "project = rf.workspace(\"hydroponics-cuihh\").project(\"pest-types\")\n",
    "version = project.version(7)\n",
    "dataset = version.download(\"yolov8\")\n"
   ]
  },
  {
   "cell_type": "code",
   "execution_count": null,
   "metadata": {},
   "outputs": [],
   "source": [
    "if __name__ == '__main__':\n",
    "    model = YOLO('yolov8n.pt')\n",
    "    print(4)\n",
    "    print(os.getcwd())\n",
    "    train_results = model.train(data='Pest-types-7/data.yaml', epochs=10, imgsz=640, save = True, device = 0)\n",
    "    print(5)\n",
    "    val_results = model.val()\n",
    "    print(6)\n",
    "    predict_results = model.predict(source ='C://Users//rachel//seadrive_root//Rachel//My Libraries//Rachel//Capstone//Hydroponics//Prediction images//Mealybug//images.jpeg', save=True, device = 0)\n",
    "    print(7)\n"
   ]
  },
  {
   "cell_type": "code",
   "execution_count": 3,
   "metadata": {},
   "outputs": [
    {
     "name": "stdout",
     "output_type": "stream",
     "text": [
      "\n",
      "image 1/1 C:\\Users\\rachel\\seadrive_root\\Rachel\\My Libraries\\Rachel\\Capstone\\Hydroponics\\Prediction images\\Mealybug\\youtube_mealybug3.png: 640x544 4 Mealybugss, 1 Scale Insects, 173.9ms\n",
      "Speed: 10.4ms preprocess, 173.9ms inference, 159.7ms postprocess per image at shape (1, 3, 640, 544)\n"
     ]
    },
    {
     "ename": "",
     "evalue": "",
     "output_type": "error",
     "traceback": [
      "\u001b[1;31mThe Kernel crashed while executing code in the current cell or a previous cell. \n",
      "\u001b[1;31mPlease review the code in the cell(s) to identify a possible cause of the failure. \n",
      "\u001b[1;31mClick <a href='https://aka.ms/vscodeJupyterKernelCrash'>here</a> for more info. \n",
      "\u001b[1;31mView Jupyter <a href='command:jupyter.viewOutput'>log</a> for further details."
     ]
    }
   ],
   "source": [
    "model = YOLO('C:\\\\Users\\\\rachel\\\\seadrive_root\\\\Rachel\\\\My Libraries\\\\Rachel\\\\Capstone\\\\Hydroponics\\\\runs\\\\detect\\\\train38\\\\weights\\\\best.pt')\n",
    "predict_results = model.predict(source ='C://Users//rachel//seadrive_root//Rachel//My Libraries//Rachel//Capstone//Hydroponics//Prediction images//Mealybug//youtube_mealybug3.png',  show=True,device = 0)"
   ]
  },
  {
   "cell_type": "code",
   "execution_count": null,
   "metadata": {},
   "outputs": [],
   "source": []
  }
 ],
 "metadata": {
  "kernelspec": {
   "display_name": "yoloenv",
   "language": "python",
   "name": "python3"
  },
  "language_info": {
   "codemirror_mode": {
    "name": "ipython",
    "version": 3
   },
   "file_extension": ".py",
   "mimetype": "text/x-python",
   "name": "python",
   "nbconvert_exporter": "python",
   "pygments_lexer": "ipython3",
   "version": "3.12.2"
  }
 },
 "nbformat": 4,
 "nbformat_minor": 2
}
